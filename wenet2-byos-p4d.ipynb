{
 "cells": [
  {
   "cell_type": "code",
   "execution_count": null,
   "id": "83c12b63-64f8-4862-8c21-2d5abdd87a21",
   "metadata": {},
   "outputs": [],
   "source": [
    "%%time\n",
    "!pip3 install -U sagemaker\n",
    "!pip3 install -U boto3\n",
    "\n",
    "#then restart kernel"
   ]
  },
  {
   "cell_type": "code",
   "execution_count": null,
   "id": "fecbc5ab-852b-4157-916d-8feb9207b7fa",
   "metadata": {},
   "outputs": [],
   "source": [
    "%%time\n",
    "import os\n",
    "import json\n",
    "\n",
    "import sagemaker\n",
    "import boto3\n",
    "from sagemaker.pytorch import PyTorch\n",
    "from sagemaker import get_execution_role\n",
    "import torch\n",
    "from sagemaker.utils import unique_name_from_base,name_from_base\n",
    "\n",
    "sess = sagemaker.Session()\n",
    "bucket = sess.default_bucket()\n",
    "role = get_execution_role()\n",
    "prefix = 'transsion-poc-zhuan'\n",
    "output_path = f\"s3://{bucket}/{prefix}\"\n",
    "\n",
    "print(\"torch.__version__:{}\".format(torch.__version__))\n",
    "print(\"boto3.__version__:{}\".format(boto3.__version__))\n",
    "print(\"sagemaker.__version__:{}\".format(sagemaker.__version__))\n",
    "print(\"bucket:{}\".format(bucket))\n",
    "print(\"role:{}\".format(role))"
   ]
  },
  {
   "cell_type": "code",
   "execution_count": null,
   "id": "bd57bc33-6cbf-4789-a40d-ed04af3bd383",
   "metadata": {},
   "outputs": [],
   "source": [
    "%%time\n",
    "!rm -fr wenet\n",
    "!git clone https://github.com/wenet-e2e/wenet.git\n",
    "!cp wenet/examples/librispeech/s0/*.sh wenet\n",
    "!cp -r wenet/examples/librispeech/s0/local wenet\n",
    "!cp -r wenet/examples/librispeech/s0/conf wenet\n",
    "!rm -fr wenet/examples"
   ]
  },
  {
   "cell_type": "code",
   "execution_count": null,
   "id": "fe1f48ad-3280-45a0-95f5-0abbb0c36c40",
   "metadata": {},
   "outputs": [],
   "source": [
    "%%time\n",
    "#download data.list etc.\n",
    "#change to your bucket & prefix that saving your data.list and other files.\n",
    "# ****** if the flac file path is not correct, please replace it manually. ******\n",
    "#!aws s3 cp --recursive s3://<bucket>/<prefix>/data wenet/data\n",
    "#!aws s3 cp --recursive s3://<bucket>/<prefix>/exp wenet/exp\n",
    "!aws s3 cp --recursive s3://sagemaker-us-east-1-432088571089/dataset-transsion-new/data wenet/data\n",
    "!aws s3 cp --recursive s3://sagemaker-us-east-1-432088571089/dataset-transsion-new/exp wenet/exp\n"
   ]
  },
  {
   "cell_type": "code",
   "execution_count": null,
   "id": "298208c1-8790-4393-8d65-8cba5999087d",
   "metadata": {},
   "outputs": [],
   "source": [
    "#change run.sh\n",
    "run_bak_sh='wenet/run_bak.sh'\n",
    "if(not os.path.exists(run_bak_sh)):\n",
    "    !cp wenet/run.sh wenet/run_bak.sh\n",
    "\n",
    "with open(run_bak_sh, 'r') as file:\n",
    "    # read a list of lines into data\n",
    "    data = file.readlines()\n",
    "\n",
    "    # now change the 2nd line, note that you have to add a newline\n",
    "    data[8] = 'export CUDA_VISIBLE_DEVICES=\"0,1,2,3,4,5,6,7\"\\n' # change this according the number of GPUs\n",
    "    data[9] = 'stage=4 # start from 0 if you need to start from data preparation\\n'\n",
    "    data[10] = 'stop_stage=4\\n'\n",
    "    data[14] = 'datadir=/opt/ml/input/data/training\\n'\n",
    "    data[130] = '  dist_backend=\"nccl\"\\n'\n",
    "    data[135] = '  pip install -r requirements.txt\\n'\n",
    "    \n",
    "    data[147] = '      --model_dir /opt/ml/model \\\\\\n'\n",
    "\n",
    "    # and write everything back\n",
    "    with open('wenet/run.sh', 'w') as file:\n",
    "        file.writelines( data )"
   ]
  },
  {
   "cell_type": "code",
   "execution_count": null,
   "id": "922ce9af-f711-4702-b811-4379efbcc8fc",
   "metadata": {},
   "outputs": [],
   "source": [
    "%%time\n",
    "job_name = name_from_base(prefix)\n",
    "use_spot_instances = False # spot or not\n",
    "max_run = 360000 \n",
    "max_wait = 7200 if use_spot_instances else None\n",
    "checkpoint_s3_uri = (\n",
    "    \"s3://{}/{}/checkpoints/{}\".format(bucket, prefix, job_name) if use_spot_instances else None\n",
    ")\n",
    "\n",
    "instance_type = \"ml.p4d.24xlarge\"#\"ml.p3.16xlarge\"\n",
    "\n",
    "est = PyTorch(\n",
    "    entry_point=\"run.sh\",\n",
    "    source_dir=\"./wenet\",\n",
    "    framework_version=\"1.12.1\", #1.11.0success #1.10.2error\n",
    "    py_version=\"py38\",\n",
    "    role=role,\n",
    "    instance_count=1,\n",
    "    instance_type=instance_type,\n",
    "    volume_size=250,\n",
    "    disable_profiler=True,\n",
    "    debugger_hook_config=False,\n",
    "    job_name=job_name,\n",
    "    use_spot_instances=use_spot_instances,\n",
    "    max_run=max_run,\n",
    "    max_wait=max_wait,\n",
    "    checkpoint_s3_uri=checkpoint_s3_uri,\n",
    ")\n"
   ]
  },
  {
   "cell_type": "code",
   "execution_count": null,
   "id": "991f505d-b0c4-4aa1-abae-fd3c3d4534d8",
   "metadata": {},
   "outputs": [],
   "source": [
    "from sagemaker.inputs import TrainingInput\n",
    "prefix_dataset = \"dataset-transsion-new/export\"\n",
    "loc =f\"s3://{bucket}/{prefix_dataset}\"\n",
    "\n",
    "training = TrainingInput(\n",
    "    s3_data_type='S3Prefix', # Available Options: S3Prefix | ManifestFile | AugmentedManifestFile\n",
    "    s3_data=loc,\n",
    "    distribution='FullyReplicated', # Available Options: FullyReplicated | ShardedByS3Key \n",
    "    input_mode='FastFile'\n",
    ")"
   ]
  },
  {
   "cell_type": "code",
   "execution_count": null,
   "id": "e43bebd0-daef-4f17-baf4-ef737888e354",
   "metadata": {},
   "outputs": [],
   "source": [
    "import numpy as np\n",
    "\n",
    "# Declaring and Initializing the one Dimension Array\n",
    "x = np.array([212,312,2,12,124,142,12])\n",
    "\n",
    "# Printing the result\n",
    "print(x[0,3])"
   ]
  },
  {
   "cell_type": "code",
   "execution_count": null,
   "id": "a653e3f8-9feb-449b-9dad-a53b1735e33d",
   "metadata": {},
   "outputs": [],
   "source": [
    "%%time\n",
    "job_name = est.fit({\"training\":training})\n",
    "#job_name = est.fit()"
   ]
  },
  {
   "cell_type": "code",
   "execution_count": null,
   "id": "52feeb0f-7da3-46f9-940e-a3cfc5546ebe",
   "metadata": {},
   "outputs": [],
   "source": []
  },
  {
   "cell_type": "code",
   "execution_count": null,
   "id": "3d07b7c9-acde-4d0a-b179-3134d28f6f3c",
   "metadata": {},
   "outputs": [],
   "source": [
    "model_data = est.model_data\n",
    "print(\"Model artifact saved at:\\n\", model_data)"
   ]
  },
  {
   "cell_type": "code",
   "execution_count": null,
   "id": "60519dfe-3653-4321-a6ab-b125cb1d8e38",
   "metadata": {},
   "outputs": [],
   "source": []
  },
  {
   "cell_type": "code",
   "execution_count": null,
   "id": "a55192e1-23f5-4c2f-8c0f-5d1c43655226",
   "metadata": {},
   "outputs": [],
   "source": []
  }
 ],
 "metadata": {
  "instance_type": "ml.t3.medium",
  "kernelspec": {
   "display_name": "Python 3 (PyTorch 1.12 Python 3.8 CPU Optimized)",
   "language": "python",
   "name": "python3__SAGEMAKER_INTERNAL__arn:aws:sagemaker:us-east-1:081325390199:image/pytorch-1.12-cpu-py38"
  },
  "language_info": {
   "codemirror_mode": {
    "name": "ipython",
    "version": 3
   },
   "file_extension": ".py",
   "mimetype": "text/x-python",
   "name": "python",
   "nbconvert_exporter": "python",
   "pygments_lexer": "ipython3",
   "version": "3.8.13"
  },
  "toc-autonumbering": false,
  "toc-showcode": true,
  "toc-showmarkdowntxt": true,
  "toc-showtags": false
 },
 "nbformat": 4,
 "nbformat_minor": 5
}
